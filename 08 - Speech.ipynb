{
  "cells": [
    {
      "cell_type": "markdown",
      "source": [
        "# Ucapan\r\n",
        "\r\n",
        "Semakin lama, kami berharap dapat berkomunikasi dengan sistem kecerdasan buatan (AI) dengan berbicara kepadanya, seringkali dengan harapan mendapatkan respons lisan.\r\n",
        "\r\n",
        "![Robot berbicara](./images/speech.jpg)\r\n",
        "\r\n",
        "*Pendahuluan ucapan* (sistem AI yang menafsirkan bahasa lisan) dan *sintesis ucapan* (sistem AI yang membuat respons lisan) adalah komponen penting dari solusi AI yang didukung oleh ucapan.\r\n",
        "\r\n",
        "## Membuat sumber daya Cognitive Services\r\n",
        "\r\n",
        "Untuk membuat perangkat lunak yang dapat menafsirkan ucapan yang dapat didengar dan merespons secara verbal, Anda dapat menggunakan layanan kognitif **Ucapan**, yang menyediakan cara sederhana untuk mentranskripsikan bahasa lisan menjadi teks dan sebaliknya.\r\n",
        "\r\n",
        "Jika Anda belum memilikinya, gunakan langkah-langkah berikut untuk membuat sumber daya Cognitive Services di langganan Azure Anda:\r\n",
        "\r\n",
        "> **Catatan**: Jika Anda sudah memiliki sumber daya Cognitive Services, cukup buka halaman Mulai cepat di portal Microsoft Azure dan salin kunci dan titik akhirnya ke sel di bawah. Atau, ikuti langkah-langkah di bawah untuk membuatnya.\r\n",
        "\r\n",
        "1. Di tab browser lain, buka portal Microsoft Azure di https://portal.azure.com, masuk menggunakan akun Microsoft Anda.\r\n",
        "2. Klik tombol **&#65291;Buat sumber daya**, cari *Cognitive Services*, dan buat sumber daya **Cognitive Services** dengan pengaturan berikut:\r\n",
        "    - **Langganan**: *Langganan Azure Anda*.\r\n",
        "    - **Grup sumber daya**: *Pilih atau buat grup sumber daya dengan nama unik*.\r\n",
        "    - **Wilayah**: *Pilih wilayah yang tersedia*:\r\n",
        "    - **Nama**: *Masukkan nama yang unik*.\r\n",
        "    - **Tingkat Harga**: S0\r\n",
        "    - **Saya mengonfirmasi bahwa saya telah membaca dan memahami pemberitahuan tersebut**: Dipilih.\r\n",
        "3. Tunggu penyebaran hingga selesai. Lalu, buka sumber daya layanan kognitif, dan di halaman **Ringkasan**, klik tautan untuk mengelola kunci layanan. Anda akan memerlukan kunci dan lokasi untuk terhubung ke sumber daya layanan kognitif dari aplikasi klien.\r\n",
        "\r\n",
        "### Mendapatkan Kunci dan Lokasi untuk sumber daya Cognitive Services Anda\r\n",
        "\r\n",
        "Untuk menggunakan sumber daya layanan kognitif, aplikasi klien memerlukan lokasi dan kunci autentikasinya:\r\n",
        "\r\n",
        "1. Di portal Azure, di halaman **Kunci dan Titik Akhir** untuk sumber daya layanan kognitif Anda, salin **Kunci1** untuk sumber daya dan tempel pada kode di bawah, menggantikan **YOUR_COG_KEY**.\r\n",
        "2. Salin **Lokasi** untuk sumber daya Anda dan tempel pada kode di bawah, menggantikan **YOUR_COG_LOCATION**.\r\n",
        ">**Catatan**: Tetap di halaman **Kunci dan Titik Akhir** dan salin  **Lokasi** dari halaman ini (contoh: _westus_). Jangan _tambahkan_ spasi di antara kata untuk bidang Lokasi. \r\n",
        "3. Jalankan kode di bawah dengan mengeklik tombol **Jalankan sel** (&#9655;) di sebelah kiri sel."
      ],
      "metadata": {}
    },
    {
      "cell_type": "code",
      "source": [
        "cog_key = 'YOUR_COG_KEY'\n",
        "cog_location = 'YOUR_COG_LOCATION'\n",
        "\n",
        "print('Ready to use cognitive services in {} using key {}'.format(cog_location, cog_key))"
      ],
      "outputs": [],
      "execution_count": null,
      "metadata": {
        "gather": {
          "logged": 1599695240794
        }
      }
    },
    {
      "cell_type": "markdown",
      "source": [
        "## Pendahuluan ucapan\r\n",
        "\r\n",
        "Misalkan Anda ingin membangun sistem otomatisasi rumah yang menerima instruksi lisan, seperti \"nyalakan lampu\" atau \"matikan lampu\". Aplikasi Anda harus dapat menerima input berbasis audio (instruksi lisan Anda), dan menafsirkannya dengan mentranskripsikannya ke teks yang kemudian dapat diuraikan dan dianalisis.\r\n",
        "\r\n",
        "Sekarang Anda siap untuk mentranskripsikan beberapa ucapan. Input tersebut bisa berasal dari **mikrofon** atau **file audio**. \r\n"
      ],
      "metadata": {}
    },
    {
      "source": [
        "### Pendahuluan Ucapan dengan file audio\r\n",
        "\r\n",
        "Jalankan sel di bawah untuk melihat layanan Pendahuluan Ucapan bekerja dengan **file audio**. \r\n"
      ],
      "cell_type": "markdown",
      "metadata": {}
    },
    {
      "cell_type": "code",
      "execution_count": null,
      "metadata": {},
      "outputs": [],
      "source": [
        "import os\n",
        "from playsound import playsound\n",
        "from azure.cognitiveservices.speech import SpeechConfig, SpeechRecognizer, AudioConfig\n",
        "\n",
        "# Mendapatkan perintah lisan dari file audio\r\n",
        "file_name = 'light-on.wav'\n",
        "audio_file = os.path.join('data', 'speech', file_name)\n",
        "\n",
        "# Mengonfigurasi pengenalan ucapan\r\n",
        "speech_config = SpeechConfig(cog_key, cog_location)\n",
        "audio_config = AudioConfig(filename=audio_file) # Use file instead of default (microphone)\n",
        "speech_recognizer = SpeechRecognizer(speech_config, audio_config)\n",
        "\n",
        "# Menggunakan panggilan satu kali dan sinkron untuk mentranskripsikan ucapan\r\n",
        "speech = speech_recognizer.recognize_once()\n",
        "\n",
        "# Menampilkan transkripsi teks dari file audio\r\n",
        "print(speech.text)"
      ]
    },
    {
      "cell_type": "markdown",
      "source": [
        "## Sintesis ucapan\r\n",
        "\r\n",
        "Jadi sekarang Anda telah melihat bagaimana layanan Ucapan dapat digunakan untuk mentranskripsikan ucapan menjadi teks; tapi bagaimana dengan sebaliknya? Bagaimana Anda dapat mengonversi teks menjadi ucapan?\r\n",
        "\r\n",
        "Nah, mari kita asumsikan sistem otomatisasi rumah Anda telah menafsirkan perintah untuk menyalakan lampu. Respons yang sesuai bisa jadi mengetahui perintah secara verbal (serta melakukan tugas yang diperintahkan secara aktual!)."
      ],
      "metadata": {}
    },
    {
      "cell_type": "code",
      "source": [
        "import os\n",
        "import matplotlib.pyplot as plt\n",
        "from PIL import Image\n",
        "from azure.cognitiveservices.speech import SpeechConfig, SpeechSynthesizer, AudioConfig\n",
        "%matplotlib inline\n",
        "\n",
        "# Mendapatkan teks untuk diucapkan\r\n",
        "response_text = 'Turning the light on.'\n",
        "\n",
        "# Mengonfigurasi sintesis ucapan\r\n",
        "speech_config = SpeechConfig(cog_key, cog_location)\n",
        "speech_synthesizer = SpeechSynthesizer(speech_config)\n",
        "\n",
        "# Mentranskripsikan teks menjadi ucapan\r\n",
        "result = speech_synthesizer.speak_text(response_text)\n",
        "\n",
        "# Menampilkan gambar yang sesuai \r\n",
        "file_name = response_text.lower() + \"jpg\"\n",
        "img = Image.open(os.path.join(\"data\", \"speech\", file_name))\n",
        "plt.axis('off')\n",
        "plt. imshow(img)"
      ],
      "outputs": [],
      "execution_count": null,
      "metadata": {
        "gather": {
          "logged": 1599695261170
        }
      }
    },
    {
      "cell_type": "markdown",
      "source": [
        "Coba dengan mengubah variabel **response_text** ke *Mematikan lampu.* (termasuk titik di akhir) dan jalankan sel lagi untuk mendengar hasilnya.\r\n",
        "\r\n",
        "## Pelajari selengkapnya\r\n",
        "\r\n",
        "Anda telah melihat contoh yang sangat sederhana menggunakan layanan kognitif Ucapan di buku catatan ini. Anda dapat mempelajari selengkapnya tentang [ucapan-ke-teks](https://docs.microsoft.com/azure/cognitive-services/speech-service/index-speech-to-text) dan [teks-ke-ucapan](https://docs.microsoft.com/azure/cognitive-services/speech-service/index-text-to-speech) dalam dokumentasi layanan Ucapan."
      ],
      "metadata": {}
    }
  ],
  "metadata": {
    "language_info": {
      "name": "python",
      "version": "3.8.5-final",
      "mimetype": "text/x-python",
      "codemirror_mode": {
        "name": "ipython",
        "version": 3
      },
      "pygments_lexer": "ipython3",
      "nbconvert_exporter": "python",
      "file_extension": ".py"
    },
    "kernelspec": {
      "name": "python3",
      "display_name": "Python 3.8.5 32-bit",
      "metadata": {
        "interpreter": {
          "hash": "177429bd1865e7f7a0dbecbac90518c0d9641b1102b2e6c0df4b82dc948b5cb2"
        }
      }
    },
    "kernel_info": {
      "name": "python3-azureml"
    },
    "nteract": {
      "version": "nteract-front-end@1.0.0"
    }
  },
  "nbformat": 4,
  "nbformat_minor": 2
}